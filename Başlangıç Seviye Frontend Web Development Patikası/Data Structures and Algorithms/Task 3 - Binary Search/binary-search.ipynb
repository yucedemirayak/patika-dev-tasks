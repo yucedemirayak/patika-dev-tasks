{
 "cells": [
  {
   "cell_type": "code",
   "execution_count": 9,
   "metadata": {},
   "outputs": [
    {
     "name": "stdout",
     "output_type": "stream",
     "text": [
      "[0]\n",
      "[2]\n",
      "[4]\n",
      "[2, 3, 4]\n",
      "[0, 1, 2, 3, 4]\n",
      "[6]\n",
      "[0, 1, 2, 3, 4, 5, 6]\n",
      "[9]\n",
      "[8, 9]\n",
      "[0, 1, 2, 3, 4, 5, 6, 7, 8, 9]\n"
     ]
    },
    {
     "data": {
      "text/plain": [
       "[0, 1, 2, 3, 4, 5, 6, 7, 8, 9]"
      ]
     },
     "execution_count": 9,
     "metadata": {},
     "output_type": "execute_result"
    }
   ],
   "source": [
    "class Binarytree:\n",
    "    def __init__(self,data):\n",
    "        self.data = data\n",
    "        self.left = None\n",
    "        self.right = None\n",
    "    \n",
    "    def addChild(self, data):\n",
    "        if data == self.data:\n",
    "            return\n",
    "        \n",
    "        if data < self.data:\n",
    "            if self.left:\n",
    "                self.left.addChild(data)\n",
    "            else:\n",
    "                self.left = Binarytree(data)\n",
    "        else:\n",
    "            if self.right:\n",
    "                self.right.addChild(data)\n",
    "            else:\n",
    "                self.right = Binarytree(data)\n",
    "               \n",
    "    def inorder(self):\n",
    "        element = [ ]\n",
    "        \n",
    "        if self.left:\n",
    "            element += self.left.inorder()\n",
    "        \n",
    "        element.append(self.data)\n",
    "        \n",
    "        if self.right:\n",
    "            element += self.right.inorder()\n",
    "        print(element)\n",
    "        return element\n",
    "    \n",
    "    def search(self,val):\n",
    "        if val == self.data:\n",
    "            return True\n",
    "        if val < self.data:\n",
    "            if self.left:\n",
    "                return self.left.search(val)\n",
    "            else:\n",
    "                return False\n",
    "        else:\n",
    "            if self.right:\n",
    "                return self.right.search(val)\n",
    "            else:\n",
    "                return False\n",
    "\n",
    "def buildtree(element):\n",
    "    root = Binarytree(element[0])\n",
    "    for i in range(1,len(element)):\n",
    "        root.addChild(element[i])\n",
    "    return root\n",
    "    \n",
    "element = [7, 5, 1, 8, 3, 6, 0, 9, 4, 2]\n",
    "tree = buildtree(element)\n",
    "tree.inorder()"
   ]
  },
  {
   "cell_type": "markdown",
   "metadata": {},
   "source": []
  }
 ],
 "metadata": {
  "kernelspec": {
   "display_name": "Python 3.10.4 64-bit",
   "language": "python",
   "name": "python3"
  },
  "language_info": {
   "codemirror_mode": {
    "name": "ipython",
    "version": 3
   },
   "file_extension": ".py",
   "mimetype": "text/x-python",
   "name": "python",
   "nbconvert_exporter": "python",
   "pygments_lexer": "ipython3",
   "version": "3.10.4"
  },
  "orig_nbformat": 4,
  "vscode": {
   "interpreter": {
    "hash": "369f2c481f4da34e4445cda3fffd2e751bd1c4d706f27375911949ba6bb62e1c"
   }
  }
 },
 "nbformat": 4,
 "nbformat_minor": 2
}
