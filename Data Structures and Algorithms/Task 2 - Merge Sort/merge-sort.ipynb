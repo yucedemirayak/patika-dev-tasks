{
 "cells": [
  {
   "cell_type": "code",
   "execution_count": 31,
   "metadata": {},
   "outputs": [],
   "source": [
    "arr = [12,42,53,14,86]"
   ]
  },
  {
   "cell_type": "code",
   "execution_count": 32,
   "metadata": {},
   "outputs": [],
   "source": [
    "def Division(arr):\n",
    "    i = 0\n",
    "    j = 0\n",
    "    k = 0\n",
    "    if len(arr) > 1:\n",
    "        middle = (0 + (len(arr)//2))\n",
    "        left = arr[0:middle]\n",
    "        right = arr[middle:]\n",
    "        Division(left)\n",
    "        Division(right)\n",
    "\n",
    "        while (i < len(left) and j < len(right)):\n",
    "            if left[i] <= right[j]:\n",
    "                arr[k] = left[i]\n",
    "                i = i + 1\n",
    "                k = k + 1\n",
    "            else:\n",
    "                arr[k] = right[j]\n",
    "                j = j + 1\n",
    "                k = k + 1\n",
    "\n",
    "        while i < len(left):\n",
    "               arr[k] = left[i]\n",
    "               i = i + 1\n",
    "               k = k + 1\n",
    "\n",
    "        while j < len(right):\n",
    "               arr[k] = right[j]\n",
    "               j = j + 1\n",
    "               k = k + 1\n",
    "    print(arr)"
   ]
  },
  {
   "cell_type": "code",
   "execution_count": 33,
   "metadata": {},
   "outputs": [
    {
     "name": "stdout",
     "output_type": "stream",
     "text": [
      "Before:[12, 42, 53, 14, 86]\n",
      "[12]\n",
      "[42]\n",
      "[12, 42]\n",
      "[53]\n",
      "[14]\n",
      "[86]\n",
      "[14, 86]\n",
      "[14, 53, 86]\n",
      "[12, 14, 42, 53, 86]\n",
      "After:[12, 14, 42, 53, 86]"
     ]
    }
   ],
   "source": [
    "print(\"Before:\",end=f\"{arr}\\n\")\n",
    "Division(arr)\n",
    "print(\"After:\",end=f\"{arr}\")"
   ]
  },
  {
   "cell_type": "markdown",
   "metadata": {},
   "source": [
    "# Big-O Notation\n",
    "O(nlog(n))"
   ]
  }
 ],
 "metadata": {
  "kernelspec": {
   "display_name": "Python 3.10.4 64-bit",
   "language": "python",
   "name": "python3"
  },
  "language_info": {
   "codemirror_mode": {
    "name": "ipython",
    "version": 3
   },
   "file_extension": ".py",
   "mimetype": "text/x-python",
   "name": "python",
   "nbconvert_exporter": "python",
   "pygments_lexer": "ipython3",
   "version": "3.10.4"
  },
  "orig_nbformat": 4,
  "vscode": {
   "interpreter": {
    "hash": "369f2c481f4da34e4445cda3fffd2e751bd1c4d706f27375911949ba6bb62e1c"
   }
  }
 },
 "nbformat": 4,
 "nbformat_minor": 2
}
