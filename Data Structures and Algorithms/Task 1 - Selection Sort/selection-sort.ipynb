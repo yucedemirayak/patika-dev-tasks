{
 "cells": [
  {
   "cell_type": "code",
   "execution_count": 261,
   "metadata": {},
   "outputs": [],
   "source": [
    "arr1 = [22,27,16,2,18,6]\n",
    "item = 18"
   ]
  },
  {
   "cell_type": "code",
   "execution_count": 262,
   "metadata": {},
   "outputs": [],
   "source": [
    "def selection(arr, stageLen = None):\n",
    "    stage = 0\n",
    "    print(f'Stage : {stage}', end=' => ')\n",
    "    print(arr)\n",
    "    totalProcessCount = 0\n",
    "    for i in range(len(arr)):\n",
    "        pos=0\n",
    "        minimumNumber = arr[-1]\n",
    "        processCount = 0\n",
    "        for j in range(i,len(arr)):\n",
    "            totalProcessCount += 1\n",
    "            processCount += 1\n",
    "            if arr[j] <= minimumNumber:\n",
    "                minimumNumber = arr[j]\n",
    "                pos = j\n",
    "        arr[i],arr[pos] = arr[pos],arr[i]\n",
    "        stage += 1\n",
    "        print(f'Process count between steps : {processCount}')\n",
    "        print(f'Stage : {stage}', end=' => ')\n",
    "        print(arr)\n",
    "        if (stage == stageLen):\n",
    "            break\n",
    "    print(f'Total Process Count: {totalProcessCount}')    "
   ]
  },
  {
   "cell_type": "code",
   "execution_count": 263,
   "metadata": {},
   "outputs": [
    {
     "name": "stdout",
     "output_type": "stream",
     "text": [
      "Stage : 0 => [22, 27, 16, 2, 18, 6]\n",
      "Process count between steps : 6\n",
      "Stage : 1 => [2, 27, 16, 22, 18, 6]\n",
      "Process count between steps : 5\n",
      "Stage : 2 => [2, 6, 16, 22, 18, 27]\n",
      "Process count between steps : 4\n",
      "Stage : 3 => [2, 6, 16, 22, 18, 27]\n",
      "Process count between steps : 3\n",
      "Stage : 4 => [2, 6, 16, 18, 22, 27]\n",
      "Process count between steps : 2\n",
      "Stage : 5 => [2, 6, 16, 18, 22, 27]\n",
      "Process count between steps : 1\n",
      "Stage : 6 => [2, 6, 16, 18, 22, 27]\n",
      "Total Process Count: 21\n"
     ]
    }
   ],
   "source": [
    "selection(arr1)"
   ]
  },
  {
   "cell_type": "markdown",
   "metadata": {},
   "source": [
    "# Big-O Notation\n",
    "\n",
    "Stage : 0 => n\n",
    "\n",
    "Stage : 1 => n - 1\n",
    "\n",
    "Stage : 2 => n - 2\n",
    "        .\n",
    "        .\n",
    "        .\n",
    "Stage : n - 1 => n - (n - 1) = 1\n",
    "\n",
    "Stage : n => 0\n",
    "      \n",
    "(n * (n - 1)) / 2 ~= n^2\n",
    "\n",
    "=> **O(n^2)**"
   ]
  },
  {
   "cell_type": "code",
   "execution_count": 264,
   "metadata": {},
   "outputs": [],
   "source": [
    "def find(arr , item):\n",
    "    step = -1\n",
    "    for i in range(len(arr)):\n",
    "        if arr[i] == item:\n",
    "            step = i + 1\n",
    "            break\n",
    "    print(f'Best Case : {1}')\n",
    "    print(f'Worst Case : {len(arr)}')\n",
    "    if step == -1:\n",
    "        print(f'Item {item} not found')\n",
    "        return   \n",
    "    print(f'Our Case : {step}')\n",
    "    if (step == 1):\n",
    "        print('Our case is best case.')\n",
    "    elif (step > 1 and step < len(arr)):\n",
    "        print('Our case is avarage case.')\n",
    "    else:\n",
    "        print('Our case is worst case.')    "
   ]
  },
  {
   "cell_type": "code",
   "execution_count": 265,
   "metadata": {},
   "outputs": [
    {
     "name": "stdout",
     "output_type": "stream",
     "text": [
      "Best Case : 1\n",
      "Worst Case : 6\n",
      "Our Case : 4\n",
      "Our case is avarage case.\n"
     ]
    }
   ],
   "source": [
    "find(arr1 , item)"
   ]
  },
  {
   "cell_type": "code",
   "execution_count": 266,
   "metadata": {},
   "outputs": [],
   "source": [
    "arr2 = [7,3,5,8,2,9,4,15,6]"
   ]
  },
  {
   "cell_type": "code",
   "execution_count": 267,
   "metadata": {},
   "outputs": [
    {
     "name": "stdout",
     "output_type": "stream",
     "text": [
      "Stage : 0 => [7, 3, 5, 8, 2, 9, 4, 15, 6]\n",
      "Process count between steps : 9\n",
      "Stage : 1 => [2, 3, 5, 8, 7, 9, 4, 15, 6]\n",
      "Process count between steps : 8\n",
      "Stage : 2 => [2, 3, 5, 8, 7, 9, 4, 15, 6]\n",
      "Process count between steps : 7\n",
      "Stage : 3 => [2, 3, 4, 8, 7, 9, 5, 15, 6]\n",
      "Process count between steps : 6\n",
      "Stage : 4 => [2, 3, 4, 5, 7, 9, 8, 15, 6]\n",
      "Total Process Count: 30\n"
     ]
    }
   ],
   "source": [
    "selection(arr2 , 4)"
   ]
  }
 ],
 "metadata": {
  "kernelspec": {
   "display_name": "Python 3.10.4 64-bit",
   "language": "python",
   "name": "python3"
  },
  "language_info": {
   "codemirror_mode": {
    "name": "ipython",
    "version": 3
   },
   "file_extension": ".py",
   "mimetype": "text/x-python",
   "name": "python",
   "nbconvert_exporter": "python",
   "pygments_lexer": "ipython3",
   "version": "3.10.4"
  },
  "orig_nbformat": 4,
  "vscode": {
   "interpreter": {
    "hash": "369f2c481f4da34e4445cda3fffd2e751bd1c4d706f27375911949ba6bb62e1c"
   }
  }
 },
 "nbformat": 4,
 "nbformat_minor": 2
}
